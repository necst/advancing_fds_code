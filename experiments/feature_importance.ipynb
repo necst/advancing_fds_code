{
 "cells": [
  {
   "cell_type": "code",
   "execution_count": null,
   "metadata": {},
   "outputs": [],
   "source": [
    "import pickle\n",
    "import sys\n",
    "\n",
    "sys.path.append(\"../\")\n",
    "from FDS import FraudDetectionSystem"
   ]
  },
  {
   "cell_type": "code",
   "execution_count": null,
   "metadata": {},
   "outputs": [],
   "source": [
    "with open(\"../results/trained_models.pkl\", \"rb\") as f:\n",
    "    models = pickle.load(f)\n",
    "    \n",
    "models"
   ]
  },
  {
   "cell_type": "code",
   "execution_count": null,
   "metadata": {},
   "outputs": [],
   "source": [
    "import pandas as pd\n",
    "import numpy as np\n",
    "import matplotlib.pyplot as plt\n",
    "\n",
    "fig, axes = plt.subplots(nrows=6, ncols=1, figsize=(15, 40))\n",
    "lrs = {k: m for k, m in models.items() if \"logistic_regression\" in k}\n",
    "i=0\n",
    "\n",
    "for k, v in lrs.items():\n",
    "    # print(v.model.coef_.reshape(1, -1)[0].shape)\n",
    "    # print(len(v.features))\n",
    "    feat_importances = pd.Series(v.model.coef_.reshape(1, -1)[0], index=v.features)\n",
    "    feat_importances.nlargest(40).plot(kind='barh', ax=axes[i], title=k)\n",
    "    i+=1\n",
    "\n",
    "plt.savefig(\"../results/logistic_regression_coef.pdf\", bbox_inches='tight')"
   ]
  },
  {
   "cell_type": "code",
   "execution_count": null,
   "metadata": {},
   "outputs": [],
   "source": [
    "fig, axes = plt.subplots(nrows=6, ncols=1, figsize=(15, 40))\n",
    "lrs = {k: m for k, m in models.items() if \"random_forest\" in k}\n",
    "i=0\n",
    "\n",
    "for k, v in lrs.items():\n",
    "    # print(v.model.coef_.reshape(1, -1)[0].shape)\n",
    "    # print(len(v.features))\n",
    "    feat_importances = pd.Series(v.model.feature_importances_.reshape(1, -1)[0], index=v.features)\n",
    "    feat_importances.nlargest(40).plot(kind='barh', ax=axes[i], title=k)\n",
    "    i+=1\n",
    "\n",
    "plt.savefig(\"../results/random_forest_fi.pdf\", bbox_inches='tight')\n"
   ]
  },
  {
   "cell_type": "code",
   "execution_count": null,
   "metadata": {},
   "outputs": [],
   "source": [
    "fig, axes = plt.subplots(nrows=6, ncols=1, figsize=(15, 40))\n",
    "lrs = {k: m for k, m in models.items() if \"xgboost\" in k}\n",
    "i=0\n",
    "\n",
    "for k, v in lrs.items():\n",
    "    # print(v.model.coef_.reshape(1, -1)[0].shape)\n",
    "    # print(len(v.features))\n",
    "    feat_importances = pd.Series(v.model.feature_importances_.reshape(1, -1)[0], index=v.features)\n",
    "    feat_importances.nlargest(40).plot(kind='barh', ax=axes[i], title=k)\n",
    "    i+=1\n",
    "\n",
    "plt.savefig(\"../results/xgboost_fi.pdf\", bbox_inches='tight')"
   ]
  },
  {
   "cell_type": "code",
   "execution_count": null,
   "metadata": {},
   "outputs": [],
   "source": [
    "fig, axes = plt.subplots(nrows=6, ncols=1, figsize=(15, 40))\n",
    "lrs = {k: m for k, m in models.items() if \"support_vector_machine\" in k}\n",
    "i=0\n",
    "\n",
    "for k, v in lrs.items():\n",
    "    # print(v.model.coef_.reshape(1, -1)[0].shape)\n",
    "    # print(len(v.features))\n",
    "    feat_importances = pd.Series(v.model.coef_.reshape(1, -1)[0], index=v.features)\n",
    "    feat_importances.nlargest(40).plot(kind='barh', ax=axes[i], title=k)\n",
    "    i+=1\n",
    "\n",
    "plt.savefig(\"../results/svm_coef.pdf\", bbox_inches='tight')\n",
    "\n"
   ]
  },
  {
   "cell_type": "code",
   "execution_count": null,
   "metadata": {},
   "outputs": [],
   "source": []
  }
 ],
 "metadata": {
  "kernelspec": {
   "display_name": "Python 3 (ipykernel)",
   "language": "python",
   "name": "python3"
  },
  "language_info": {
   "codemirror_mode": {
    "name": "ipython",
    "version": 3
   },
   "file_extension": ".py",
   "mimetype": "text/x-python",
   "name": "python",
   "nbconvert_exporter": "python",
   "pygments_lexer": "ipython3",
   "version": "3.10.6"
  },
  "vscode": {
   "interpreter": {
    "hash": "e7e6847781fc11fada5403783467fe4955bb1980803bb2d7fbfb4738986c9fa0"
   }
  }
 },
 "nbformat": 4,
 "nbformat_minor": 2
}
