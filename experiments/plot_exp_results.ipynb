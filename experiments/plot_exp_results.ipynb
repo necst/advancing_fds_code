{
 "cells": [
  {
   "cell_type": "code",
   "execution_count": null,
   "id": "10063dff-0068-4367-bf22-9bdc6e750c93",
   "metadata": {},
   "outputs": [],
   "source": [
    "import pandas as pd\n",
    "import matplotlib.pyplot as plt\n",
    "import numpy as np"
   ]
  },
  {
   "cell_type": "code",
   "execution_count": null,
   "id": "8e90d0da",
   "metadata": {},
   "outputs": [],
   "source": [
    "file_name = \"../../results/experiment_2/test/exp2.csv\"\n",
    "df = pd.read_csv(file_name, index_col=0)\n",
    "loss_file = \"../../results/experiment_2/test/losses.csv\"\n",
    "loss_df = pd.read_csv(loss_file, index_col=0)"
   ]
  },
  {
   "cell_type": "code",
   "execution_count": null,
   "id": "84f1349d",
   "metadata": {},
   "outputs": [],
   "source": [
    "models = list(loss_df.columns)\n",
    "models"
   ]
  },
  {
   "cell_type": "code",
   "execution_count": null,
   "id": "9fcc01c1",
   "metadata": {},
   "outputs": [],
   "source": [
    "losses = loss_df.drop(loss_df.index[0])"
   ]
  },
  {
   "cell_type": "code",
   "execution_count": null,
   "id": "2c2404b2",
   "metadata": {},
   "outputs": [],
   "source": [
    "base_models = models.copy()\n",
    "del base_models[-1]\n",
    "del base_models[-1]\n",
    "del base_models[-1]\n",
    "base_models"
   ]
  },
  {
   "cell_type": "code",
   "execution_count": null,
   "id": "84bcc27d",
   "metadata": {},
   "outputs": [],
   "source": [
    "MAX_TS_2014_15 = pd.Timestamp(year=2015, month=3, day=1, hour=23, minute=59)\n",
    "\n",
    "ts_weeks = [MAX_TS_2014_15 - pd.Timedelta(weeks=i) for i in reversed(range(19))]\n",
    "ts_week_start_end = list(zip(ts_weeks, ts_weeks[1:]))\n",
    "from_week_6 = ts_week_start_end[6:]\n",
    "\n",
    "campaigns =[\n",
    "\"st_is\",\n",
    "\"st_is\",\n",
    "\"st_th\",\n",
    "\"st_th\",\n",
    "\"lt_is\",\n",
    "\"lt_is\",\n",
    "\"lt_th\",\n",
    "\"lt_th\",\n",
    "\"sf_th\",\n",
    "\"sf_th\",\n",
    "\"sf_is\",\n",
    "\"sf_is\",\n",
    "]\n",
    "\n",
    "\n",
    "campaigns_per_weeks = list(zip(from_week_6, campaigns))\n",
    "# ts_list = df.Timestamp.to_numpy()\n",
    "df[\"Timestamp\"] = pd.to_datetime(df.Timestamp)\n",
    "xs = []\n",
    "for s_e, c in campaigns_per_weeks:\n",
    "    s, e = s_e\n",
    "    x = df.loc[df.Timestamp < e].index[-1]\n",
    "    best_model = loss_df[:x].max().idxmin()\n",
    "    print(best_model)\n",
    "    xs.append((x, c, best_model))\n",
    "xs\n"
   ]
  },
  {
   "cell_type": "code",
   "execution_count": null,
   "id": "d11ba1ee",
   "metadata": {},
   "outputs": [],
   "source": [
    "loss_df.max().sort_values()"
   ]
  },
  {
   "cell_type": "code",
   "execution_count": null,
   "id": "0fd98ea3",
   "metadata": {},
   "outputs": [],
   "source": [
    "# max_loss = max(info_df[[c for c in info_df.columns if \"loss\" in c]].max())\n",
    "max_loss = loss_df.max().max()\n",
    "max_loss"
   ]
  },
  {
   "cell_type": "code",
   "execution_count": null,
   "id": "725c20cb",
   "metadata": {},
   "outputs": [],
   "source": [
    "losses = loss_df.to_dict(orient=\"list\")\n",
    "losses"
   ]
  },
  {
   "cell_type": "code",
   "execution_count": null,
   "id": "2dd75bd9",
   "metadata": {},
   "outputs": [],
   "source": [
    "color_names = ['Purples', 'Blues', \"Reds\", 'Greens', 'Oranges']\n",
    "cmaps = [plt.get_cmap(c) for c in color_names]\n",
    "\n",
    "colors = [cmap(np.linspace(0.3, 1.0, 6)) for cmap in cmaps]\n",
    "colors = [c for cmap in colors for c in cmap]"
   ]
  },
  {
   "cell_type": "code",
   "execution_count": null,
   "id": "70a5337f",
   "metadata": {},
   "outputs": [],
   "source": [
    "fig = plt.figure(figsize=(10, 4))\n",
    "\n",
    "loss_matrix = np.array([losses[m] for m in base_models])\n",
    "min_loss_per_point = np.min(loss_matrix, axis=0)\n",
    "max_loss_per_point = np.max(loss_matrix, axis=0)\n",
    "\n",
    "x = np.arange(0, loss_df.shape[0], 1, dtype=int)\n",
    "plt.fill_between(np.arange(0, loss_df.shape[0]), min_loss_per_point, max_loss_per_point, color=\"red\", alpha=0.3)\n",
    "\n",
    "markpoints = [i for i,c,b in xs]\n",
    "plt.plot(x, losses[\"MWU\"], marker=\"*\", markersize=10, markevery=markpoints, label=\"MWU\", color=\"blue\")\n",
    "plt.plot(x, losses[\"MEAN\"], marker=\"*\", markersize=10, markevery=markpoints, label=\"Mean\", color=\"red\")\n",
    "plt.plot(x, losses[\"MAJORITY\"], marker=\"*\", markersize=10, markevery=markpoints, label=\"Majority voting\", color=\"green\")\n",
    "\n",
    "    # plt.vlines(i, -2000, max_loss*1.1, color=\"red\", linestyle=\"dotted\")\n",
    "plt.legend(loc=\"upper left\")\n",
    "        \n",
    "# plt.plot(T[idx], L[idx], \"*-\", label=\"MWU\", markevery=100)\n",
    "plt.xticks([0]+markpoints, labels=np.arange(len(xs)+1))\n",
    "plt.xlim(0, df.shape[0])\n",
    "# plt.ticklabel_format(style='sci', axis='x', scilimits=(0,0))\n",
    "plt.ylim(0, max_loss*1.1)\n",
    "plt.ylabel(\"$l_T$\")\n",
    "plt.xlabel(\"Week\")\n",
    "plt.grid()\n",
    "plt.savefig(file_name+\"loss_area.pdf\", bbox_inches='tight')\n"
   ]
  },
  {
   "cell_type": "code",
   "execution_count": null,
   "id": "f0bbbc01",
   "metadata": {},
   "outputs": [],
   "source": [
    "labels = {\n",
    "    'logistic_regression_lt_is': \"LR(LT,IS)\",\n",
    "    'logistic_regression_lt_th': \"LR(LT,TH)\",\n",
    "    'logistic_regression_sf_is': \"LR(ST,IS)\",\n",
    "    'logistic_regression_sf_th': \"LR(ST,TH)\",\n",
    "    'logistic_regression_st_is': \"LR(MT,IS)\",\n",
    "    'logistic_regression_st_th': \"LR(MT,TH)\",\n",
    "    'neural_network_lt_is': \"NN(LT,IS)\",\n",
    "    'neural_network_lt_th': \"NN(LT,TH)\",\n",
    "    'neural_network_sf_is': \"NN(ST,IS)\",\n",
    "    'neural_network_sf_th': \"NN(ST,TH)\",\n",
    "    'neural_network_st_is': \"NN(MT,IS)\",\n",
    "    'neural_network_st_th': \"NN(MT,TH)\",\n",
    "    'random_forest_lt_is': \"RF(LT,IS)\",\n",
    "    'random_forest_lt_th': \"RF(LT,TH)\",\n",
    "    'random_forest_sf_is': \"RF(ST,IS)\",\n",
    "    'random_forest_sf_th': \"RF(ST,TH)\",\n",
    "    'random_forest_st_is': \"RF(MT,IS)\",\n",
    "    'random_forest_st_th': \"RF(MT,TH)\",\n",
    "    'support_vector_machine_lt_is': \"SVM(LT,IS)\",\n",
    "    'support_vector_machine_lt_th': \"SVM(LT,TH)\",\n",
    "    'support_vector_machine_sf_is': \"SVM(ST,IS)\",\n",
    "    'support_vector_machine_sf_th': \"SVM(ST,TH)\",\n",
    "    'support_vector_machine_st_is': \"SVM(MT,IS)\",\n",
    "    'support_vector_machine_st_th': \"SVM(MT,TH)\",\n",
    "    'xgboost_lt_is': \"XGB(LT,IS)\",\n",
    "    'xgboost_lt_th': \"XGB(LT,TH)\",\n",
    "    'xgboost_sf_is': \"XGB(ST,IS)\",\n",
    "    'xgboost_sf_th': \"XGB(ST,TH)\",\n",
    "    'xgboost_st_is': \"XGB(MT,IS)\",\n",
    "    'xgboost_st_th': \"XGB(MT,TH)\",\n",
    "}"
   ]
  },
  {
   "cell_type": "code",
   "execution_count": null,
   "id": "72e3265e",
   "metadata": {},
   "outputs": [],
   "source": [
    "fig, ax = plt.subplots(figsize=(10, 4))\n",
    "\n",
    "prev_i = 0\n",
    "for i, c, best in xs:\n",
    "    # plt.text(prev_i+20, 2.3*10**7, c, fontdict=None)\n",
    "\n",
    "    \n",
    "    x = np.arange(prev_i, i, 1, dtype=int)\n",
    "    \n",
    "    for j, m in enumerate(sorted(base_models)):\n",
    "    # print(m, i, i // 6, i % 6)\n",
    "        ax.plot(x, losses[m][prev_i:i], label=labels[m], color=colors[j])\n",
    "\n",
    "    ax.plot(x, losses[\"MWU\"][prev_i:i], marker=\"*\", markersize=10, markevery=[0, len(x)-1], label=\"MWU\", color=\"blue\")\n",
    "    ax.plot(x, losses[\"MEAN\"][prev_i:i], marker=\"*\", markersize=10, markevery=[0, len(x)-1], label=\"Mean\", color=\"red\")\n",
    "    ax.plot(x, losses[\"MAJORITY\"][prev_i:i], marker=\"*\", markersize=10, markevery=[0, len(x)-1], label=\"Majority Voting\", color=\"green\")\n",
    "\n",
    "    # plt.vlines(i, -2000, max_loss*1.1, color=\"red\", linestyle=\"dotted\")\n",
    "    if prev_i == 0:\n",
    "        legend_fig = ax.get_legend_handles_labels()\n",
    "        \n",
    "    prev_i = i\n",
    "    \n",
    "ax.legend([])\n",
    "\n",
    "ax.set_xticks([0]+[i for i,c,b in xs], labels=np.arange(len(xs)+1))\n",
    "ax.set_xlim(-df.shape[0]*0.05, df.shape[0]*1.05)\n",
    "# plt.ticklabel_format(style='sci', axis='x', scilimits=(0,0))\n",
    "ax.set_ylim(0, max_loss*1.1)\n",
    "ax.set_ylabel(\"$L_T$\")\n",
    "ax.set_xlabel(\"Week\")\n",
    "\n",
    "ax.grid()\n",
    "plt.savefig(file_name+\"loss_alt.pdf\", bbox_inches='tight')"
   ]
  },
  {
   "cell_type": "code",
   "execution_count": null,
   "id": "0b4cea25",
   "metadata": {},
   "outputs": [],
   "source": [
    "import matplotlib as mlp\n",
    "\n",
    "r = mlp.patches.Rectangle((0,0), 1, 1, fill=False, edgecolor='none',\n",
    "                                 visible=False)\n",
    "\n",
    "for i in range(3):\n",
    "    legend_fig[0].append(r)\n",
    "    legend_fig[1].append(\"\")"
   ]
  },
  {
   "cell_type": "code",
   "execution_count": null,
   "id": "cdde3534",
   "metadata": {},
   "outputs": [],
   "source": [
    "figl, axl = plt.subplots(figsize=(10, 2))\n",
    "axl.axis(False)\n",
    "axl.legend(*legend_fig, loc=\"center\", bbox_to_anchor=(0.5, 0.5), ncol=3)\n",
    "plt.savefig(file_name+\"legend.pdf\", bbox_inches='tight')"
   ]
  },
  {
   "cell_type": "code",
   "execution_count": null,
   "id": "01ad2c88",
   "metadata": {},
   "outputs": [],
   "source": []
  }
 ],
 "metadata": {
  "kernelspec": {
   "display_name": "Python 3 (ipykernel)",
   "language": "python",
   "name": "python3"
  },
  "language_info": {
   "codemirror_mode": {
    "name": "ipython",
    "version": 3
   },
   "file_extension": ".py",
   "mimetype": "text/x-python",
   "name": "python",
   "nbconvert_exporter": "python",
   "pygments_lexer": "ipython3",
   "version": "3.10.6"
  },
  "vscode": {
   "interpreter": {
    "hash": "e7e6847781fc11fada5403783467fe4955bb1980803bb2d7fbfb4738986c9fa0"
   }
  }
 },
 "nbformat": 4,
 "nbformat_minor": 5
}
